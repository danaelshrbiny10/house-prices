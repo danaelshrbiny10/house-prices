{
  "nbformat": 4,
  "nbformat_minor": 0,
  "metadata": {
    "colab": {
      "provenance": []
    },
    "kernelspec": {
      "name": "python3",
      "display_name": "Python 3"
    },
    "language_info": {
      "name": "python"
    }
  },
  "cells": [
    {
      "cell_type": "code",
      "execution_count": null,
      "metadata": {
        "id": "W5Erd6-0mG9r"
      },
      "outputs": [],
      "source": [
        "import pandas as pd"
      ]
    },
    {
      "cell_type": "code",
      "source": [
        "data = pd.read_csv(\"/content/house_price.csv\")\n",
        "data.head()"
      ],
      "metadata": {
        "colab": {
          "base_uri": "https://localhost:8080/",
          "height": 206
        },
        "id": "RKR9gcPkqfYS",
        "outputId": "e76ab795-82e3-4e45-b129-66daec517b13"
      },
      "execution_count": null,
      "outputs": [
        {
          "output_type": "execute_result",
          "data": {
            "text/plain": [
              "   area   price\n",
              "0  2104  399900\n",
              "1  1600  329900\n",
              "2  2400  369000\n",
              "3  1416  232000\n",
              "4  3000  539900"
            ],
            "text/html": [
              "\n",
              "  <div id=\"df-c1ba5b01-90a5-4392-b07e-387a4ce37dd5\">\n",
              "    <div class=\"colab-df-container\">\n",
              "      <div>\n",
              "<style scoped>\n",
              "    .dataframe tbody tr th:only-of-type {\n",
              "        vertical-align: middle;\n",
              "    }\n",
              "\n",
              "    .dataframe tbody tr th {\n",
              "        vertical-align: top;\n",
              "    }\n",
              "\n",
              "    .dataframe thead th {\n",
              "        text-align: right;\n",
              "    }\n",
              "</style>\n",
              "<table border=\"1\" class=\"dataframe\">\n",
              "  <thead>\n",
              "    <tr style=\"text-align: right;\">\n",
              "      <th></th>\n",
              "      <th>area</th>\n",
              "      <th>price</th>\n",
              "    </tr>\n",
              "  </thead>\n",
              "  <tbody>\n",
              "    <tr>\n",
              "      <th>0</th>\n",
              "      <td>2104</td>\n",
              "      <td>399900</td>\n",
              "    </tr>\n",
              "    <tr>\n",
              "      <th>1</th>\n",
              "      <td>1600</td>\n",
              "      <td>329900</td>\n",
              "    </tr>\n",
              "    <tr>\n",
              "      <th>2</th>\n",
              "      <td>2400</td>\n",
              "      <td>369000</td>\n",
              "    </tr>\n",
              "    <tr>\n",
              "      <th>3</th>\n",
              "      <td>1416</td>\n",
              "      <td>232000</td>\n",
              "    </tr>\n",
              "    <tr>\n",
              "      <th>4</th>\n",
              "      <td>3000</td>\n",
              "      <td>539900</td>\n",
              "    </tr>\n",
              "  </tbody>\n",
              "</table>\n",
              "</div>\n",
              "      <button class=\"colab-df-convert\" onclick=\"convertToInteractive('df-c1ba5b01-90a5-4392-b07e-387a4ce37dd5')\"\n",
              "              title=\"Convert this dataframe to an interactive table.\"\n",
              "              style=\"display:none;\">\n",
              "        \n",
              "  <svg xmlns=\"http://www.w3.org/2000/svg\" height=\"24px\"viewBox=\"0 0 24 24\"\n",
              "       width=\"24px\">\n",
              "    <path d=\"M0 0h24v24H0V0z\" fill=\"none\"/>\n",
              "    <path d=\"M18.56 5.44l.94 2.06.94-2.06 2.06-.94-2.06-.94-.94-2.06-.94 2.06-2.06.94zm-11 1L8.5 8.5l.94-2.06 2.06-.94-2.06-.94L8.5 2.5l-.94 2.06-2.06.94zm10 10l.94 2.06.94-2.06 2.06-.94-2.06-.94-.94-2.06-.94 2.06-2.06.94z\"/><path d=\"M17.41 7.96l-1.37-1.37c-.4-.4-.92-.59-1.43-.59-.52 0-1.04.2-1.43.59L10.3 9.45l-7.72 7.72c-.78.78-.78 2.05 0 2.83L4 21.41c.39.39.9.59 1.41.59.51 0 1.02-.2 1.41-.59l7.78-7.78 2.81-2.81c.8-.78.8-2.07 0-2.86zM5.41 20L4 18.59l7.72-7.72 1.47 1.35L5.41 20z\"/>\n",
              "  </svg>\n",
              "      </button>\n",
              "      \n",
              "  <style>\n",
              "    .colab-df-container {\n",
              "      display:flex;\n",
              "      flex-wrap:wrap;\n",
              "      gap: 12px;\n",
              "    }\n",
              "\n",
              "    .colab-df-convert {\n",
              "      background-color: #E8F0FE;\n",
              "      border: none;\n",
              "      border-radius: 50%;\n",
              "      cursor: pointer;\n",
              "      display: none;\n",
              "      fill: #1967D2;\n",
              "      height: 32px;\n",
              "      padding: 0 0 0 0;\n",
              "      width: 32px;\n",
              "    }\n",
              "\n",
              "    .colab-df-convert:hover {\n",
              "      background-color: #E2EBFA;\n",
              "      box-shadow: 0px 1px 2px rgba(60, 64, 67, 0.3), 0px 1px 3px 1px rgba(60, 64, 67, 0.15);\n",
              "      fill: #174EA6;\n",
              "    }\n",
              "\n",
              "    [theme=dark] .colab-df-convert {\n",
              "      background-color: #3B4455;\n",
              "      fill: #D2E3FC;\n",
              "    }\n",
              "\n",
              "    [theme=dark] .colab-df-convert:hover {\n",
              "      background-color: #434B5C;\n",
              "      box-shadow: 0px 1px 3px 1px rgba(0, 0, 0, 0.15);\n",
              "      filter: drop-shadow(0px 1px 2px rgba(0, 0, 0, 0.3));\n",
              "      fill: #FFFFFF;\n",
              "    }\n",
              "  </style>\n",
              "\n",
              "      <script>\n",
              "        const buttonEl =\n",
              "          document.querySelector('#df-c1ba5b01-90a5-4392-b07e-387a4ce37dd5 button.colab-df-convert');\n",
              "        buttonEl.style.display =\n",
              "          google.colab.kernel.accessAllowed ? 'block' : 'none';\n",
              "\n",
              "        async function convertToInteractive(key) {\n",
              "          const element = document.querySelector('#df-c1ba5b01-90a5-4392-b07e-387a4ce37dd5');\n",
              "          const dataTable =\n",
              "            await google.colab.kernel.invokeFunction('convertToInteractive',\n",
              "                                                     [key], {});\n",
              "          if (!dataTable) return;\n",
              "\n",
              "          const docLinkHtml = 'Like what you see? Visit the ' +\n",
              "            '<a target=\"_blank\" href=https://colab.research.google.com/notebooks/data_table.ipynb>data table notebook</a>'\n",
              "            + ' to learn more about interactive tables.';\n",
              "          element.innerHTML = '';\n",
              "          dataTable['output_type'] = 'display_data';\n",
              "          await google.colab.output.renderOutput(dataTable, element);\n",
              "          const docLink = document.createElement('div');\n",
              "          docLink.innerHTML = docLinkHtml;\n",
              "          element.appendChild(docLink);\n",
              "        }\n",
              "      </script>\n",
              "    </div>\n",
              "  </div>\n",
              "  "
            ]
          },
          "metadata": {},
          "execution_count": 7
        }
      ]
    },
    {
      "cell_type": "code",
      "source": [
        "x = data.iloc[:,:1].values\n",
        "x"
      ],
      "metadata": {
        "colab": {
          "base_uri": "https://localhost:8080/"
        },
        "id": "Mxs7sYMdqo1F",
        "outputId": "860edf1f-8216-4d4f-9230-11c543cae901"
      },
      "execution_count": null,
      "outputs": [
        {
          "output_type": "execute_result",
          "data": {
            "text/plain": [
              "array([[2104],\n",
              "       [1600],\n",
              "       [2400],\n",
              "       [1416],\n",
              "       [3000],\n",
              "       [1985],\n",
              "       [1534],\n",
              "       [1427],\n",
              "       [1380],\n",
              "       [1494],\n",
              "       [1940],\n",
              "       [2000],\n",
              "       [1890],\n",
              "       [4478],\n",
              "       [1268],\n",
              "       [2300],\n",
              "       [1320],\n",
              "       [1236],\n",
              "       [2609],\n",
              "       [3031],\n",
              "       [1767],\n",
              "       [1888],\n",
              "       [1604],\n",
              "       [1962],\n",
              "       [3890],\n",
              "       [1100],\n",
              "       [1458],\n",
              "       [2526],\n",
              "       [2200],\n",
              "       [2637],\n",
              "       [1839],\n",
              "       [1000],\n",
              "       [2040],\n",
              "       [3137],\n",
              "       [1811],\n",
              "       [1437],\n",
              "       [1239],\n",
              "       [2132],\n",
              "       [4215],\n",
              "       [2162],\n",
              "       [1664],\n",
              "       [2238],\n",
              "       [2567],\n",
              "       [1200],\n",
              "       [ 852],\n",
              "       [1852],\n",
              "       [1203]])"
            ]
          },
          "metadata": {},
          "execution_count": 15
        }
      ]
    },
    {
      "cell_type": "code",
      "source": [
        "y = data.iloc[:,1:2].values\n",
        "y"
      ],
      "metadata": {
        "colab": {
          "base_uri": "https://localhost:8080/"
        },
        "id": "KfDD-uZDri5d",
        "outputId": "617cf70e-3047-4e06-9d86-8266cb7782e3"
      },
      "execution_count": null,
      "outputs": [
        {
          "output_type": "execute_result",
          "data": {
            "text/plain": [
              "array([[399900],\n",
              "       [329900],\n",
              "       [369000],\n",
              "       [232000],\n",
              "       [539900],\n",
              "       [299900],\n",
              "       [314900],\n",
              "       [198999],\n",
              "       [212000],\n",
              "       [242500],\n",
              "       [239999],\n",
              "       [347000],\n",
              "       [329999],\n",
              "       [699900],\n",
              "       [259900],\n",
              "       [449900],\n",
              "       [299900],\n",
              "       [199900],\n",
              "       [499998],\n",
              "       [599000],\n",
              "       [252900],\n",
              "       [255000],\n",
              "       [242900],\n",
              "       [259900],\n",
              "       [573900],\n",
              "       [249900],\n",
              "       [464500],\n",
              "       [469000],\n",
              "       [475000],\n",
              "       [299900],\n",
              "       [349900],\n",
              "       [169900],\n",
              "       [314900],\n",
              "       [579900],\n",
              "       [285900],\n",
              "       [249900],\n",
              "       [229900],\n",
              "       [345000],\n",
              "       [549000],\n",
              "       [287000],\n",
              "       [368500],\n",
              "       [329900],\n",
              "       [314000],\n",
              "       [299000],\n",
              "       [179900],\n",
              "       [299900],\n",
              "       [239500]])"
            ]
          },
          "metadata": {},
          "execution_count": 16
        }
      ]
    },
    {
      "cell_type": "markdown",
      "source": [
        "# splitting data to training and test\n"
      ],
      "metadata": {
        "id": "giFqXrcwsSFO"
      }
    },
    {
      "cell_type": "code",
      "source": [
        "from sklearn.model_selection import train_test_split"
      ],
      "metadata": {
        "id": "CPSr0scrr5g-"
      },
      "execution_count": null,
      "outputs": []
    },
    {
      "cell_type": "code",
      "source": [
        "x_train,x_test,y_train,y_test = train_test_split(x,y,test_size=0.3, random_state=0)"
      ],
      "metadata": {
        "id": "pjVSbvdTslhL"
      },
      "execution_count": null,
      "outputs": []
    },
    {
      "cell_type": "code",
      "source": [
        "x_train"
      ],
      "metadata": {
        "id": "xHcvAeros4x2",
        "colab": {
          "base_uri": "https://localhost:8080/"
        },
        "outputId": "5859d911-9670-499c-8782-10327ff1e31c"
      },
      "execution_count": 20,
      "outputs": [
        {
          "output_type": "execute_result",
          "data": {
            "text/plain": [
              "array([[1852],\n",
              "       [1458],\n",
              "       [2300],\n",
              "       [1100],\n",
              "       [1320],\n",
              "       [1664],\n",
              "       [1767],\n",
              "       [2238],\n",
              "       [1380],\n",
              "       [4478],\n",
              "       [1985],\n",
              "       [1236],\n",
              "       [1811],\n",
              "       [1268],\n",
              "       [2132],\n",
              "       [1427],\n",
              "       [4215],\n",
              "       [1600],\n",
              "       [1890],\n",
              "       [1437],\n",
              "       [3890],\n",
              "       [1534],\n",
              "       [1962],\n",
              "       [1239],\n",
              "       [1888],\n",
              "       [3031],\n",
              "       [1494],\n",
              "       [2162],\n",
              "       [1203],\n",
              "       [1416],\n",
              "       [2104],\n",
              "       [ 852]])"
            ]
          },
          "metadata": {},
          "execution_count": 20
        }
      ]
    },
    {
      "cell_type": "markdown",
      "source": [
        "# Training the Simple Linear Regression model on the Training set"
      ],
      "metadata": {
        "id": "KsXKjKt9yisU"
      }
    },
    {
      "cell_type": "code",
      "source": [
        "from sklearn.linear_model import LinearRegression"
      ],
      "metadata": {
        "id": "14RZ8Mtxyu7J"
      },
      "execution_count": 21,
      "outputs": []
    },
    {
      "cell_type": "code",
      "source": [
        "regressor = LinearRegression()\n",
        "regressor.fit(x_train,y_train)"
      ],
      "metadata": {
        "colab": {
          "base_uri": "https://localhost:8080/"
        },
        "id": "XYraPF-6y6og",
        "outputId": "28cd2498-f589-4e9e-d1ae-ba3f4fe1142f"
      },
      "execution_count": 22,
      "outputs": [
        {
          "output_type": "execute_result",
          "data": {
            "text/plain": [
              "LinearRegression()"
            ]
          },
          "metadata": {},
          "execution_count": 22
        }
      ]
    },
    {
      "cell_type": "markdown",
      "source": [
        "# prediction"
      ],
      "metadata": {
        "id": "YfYq4EzJzNlI"
      }
    },
    {
      "cell_type": "code",
      "source": [
        "y_pred =  regressor.predict(x_test)\n",
        "y_pred"
      ],
      "metadata": {
        "colab": {
          "base_uri": "https://localhost:8080/"
        },
        "id": "S7AERPKxzQHO",
        "outputId": "64b6adbb-6ed9-42d1-a58d-1a68ddb84a27"
      },
      "execution_count": 23,
      "outputs": [
        {
          "output_type": "execute_result",
          "data": {
            "text/plain": [
              "array([[364462.0241869 ],\n",
              "       [485752.91502401],\n",
              "       [317732.02248765],\n",
              "       [468018.81465615],\n",
              "       [417405.43331431],\n",
              "       [338572.82656959],\n",
              "       [411968.70181467],\n",
              "       [209126.83848303],\n",
              "       [287312.21528731],\n",
              "       [330806.0672844 ],\n",
              "       [406661.41630312],\n",
              "       [343750.66609305],\n",
              "       [421029.92098073],\n",
              "       [235016.03610034],\n",
              "       [390351.22180421]])"
            ]
          },
          "metadata": {},
          "execution_count": 23
        }
      ]
    },
    {
      "cell_type": "markdown",
      "source": [
        "# visualize training test"
      ],
      "metadata": {
        "id": "rlNCdwPvx4O6"
      }
    },
    {
      "cell_type": "code",
      "source": [
        "import matplotlib.pyplot as plt"
      ],
      "metadata": {
        "id": "qSY8b6ljx3w_"
      },
      "execution_count": 29,
      "outputs": []
    },
    {
      "cell_type": "code",
      "source": [
        "plt.scatter(x_train, y_train, color = 'red')\n",
        "plt.plot(x_train, regressor.predict(x_train), color = 'blue')\n",
        "plt.title(\"house prices model visualize\")\n",
        "plt.xlabel(\"area\")\n",
        "plt.ylabel(\"prices\")\n",
        "plt.show()"
      ],
      "metadata": {
        "colab": {
          "base_uri": "https://localhost:8080/",
          "height": 295
        },
        "id": "GBk0B28k0T9F",
        "outputId": "f4e1f5d3-9e66-477d-f6ac-5f361a25f9ef"
      },
      "execution_count": 33,
      "outputs": [
        {
          "output_type": "display_data",
          "data": {
            "text/plain": [
              "<Figure size 432x288 with 1 Axes>"
            ],
            "image/png": "[encoded data removed]"
          },
          "metadata": {
            "needs_background": "light"
          }
        }
      ]
    },
    {
      "cell_type": "markdown",
      "source": [
        "# visualize testing set\n"
      ],
      "metadata": {
        "id": "hX5t4xsE3sGh"
      }
    },
    {
      "cell_type": "code",
      "source": [
        "plt.scatter(x_test, y_test, color = 'red')\n",
        "plt.plot(x_train, regressor.predict(x_train), color = 'blue')\n",
        "plt.title(\"house prices model visualize\")\n",
        "plt.xlabel(\"area\")\n",
        "plt.ylabel(\"prices\")\n",
        "plt.show()"
      ],
      "metadata": {
        "colab": {
          "base_uri": "https://localhost:8080/",
          "height": 295
        },
        "id": "kb6smreD3xIw",
        "outputId": "2e8ea2bd-514d-4c9e-95cf-f9de79eb415b"
      },
      "execution_count": 35,
      "outputs": [
        {
          "output_type": "display_data",
          "data": {
            "text/plain": [
              "<Figure size 432x288 with 1 Axes>"
            ],
            "image/png": "[encoded data removed]"
          },
          "metadata": {
            "needs_background": "light"
          }
        }
      ]
    },
    {
      "cell_type": "code",
      "source": [
        "from sklearn.metrics import mean_squared_error , r2_score\n",
        "mse = mean_squared_error(y_test, y_pred)\n",
        "r = r2_score(y_test ,y_pred)\n",
        "r"
      ],
      "metadata": {
        "colab": {
          "base_uri": "https://localhost:8080/"
        },
        "id": "53QgAJIF4ok0",
        "outputId": "02fac15b-2e55-40c2-acdd-40158597b070"
      },
      "execution_count": 36,
      "outputs": [
        {
          "output_type": "execute_result",
          "data": {
            "text/plain": [
              "0.6040248018702254"
            ]
          },
          "metadata": {},
          "execution_count": 36
        }
      ]
    },
    {
      "cell_type": "code",
      "source": [
        "mse"
      ],
      "metadata": {
        "colab": {
          "base_uri": "https://localhost:8080/"
        },
        "id": "3pArdjGR4pP1",
        "outputId": "0773db22-8342-41fe-9fce-0ff44ab09b94"
      },
      "execution_count": 37,
      "outputs": [
        {
          "output_type": "execute_result",
          "data": {
            "text/plain": [
              "5298151357.259717"
            ]
          },
          "metadata": {},
          "execution_count": 37
        }
      ]
    }
  ]
}